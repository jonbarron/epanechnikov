{
  "nbformat": 4,
  "nbformat_minor": 0,
  "metadata": {
    "colab": {
      "provenance": []
    },
    "kernelspec": {
      "name": "python3",
      "display_name": "Python 3"
    },
    "language_info": {
      "name": "python"
    }
  },
  "cells": [
    {
      "cell_type": "markdown",
      "source": [
        "Unit tests for the [Epanechnikov distribution](https://en.wikipedia.org/wiki/Epanechnikov_distribution)."
      ],
      "metadata": {
        "id": "1fGMcorn-7z0"
      }
    },
    {
      "cell_type": "code",
      "source": [
        "import numpy as np\n",
        "\n",
        "def pdf(x, c):\n",
        "  return 3/(4*c) * np.maximum(0, 1 - (x/c)**2)\n",
        "\n",
        "def cdf(x, c):\n",
        "  xc = np.clip(x, -c, c)\n",
        "  return 1/2 + 3/(4*c) * xc - xc**3 / (4*c**3)\n",
        "\n",
        "cs = 2.**np.linspace(-5, 5, 11)\n",
        "\n",
        "def test_support():\n",
        "  # Assert that the support of the distribution is [-c, c]\n",
        "  for c in cs:\n",
        "    assert pdf(np.nextafter(-c, -np.inf), c) == 0\n",
        "    assert pdf(np.nextafter(-c, np.inf), c) > 0\n",
        "    assert pdf(np.nextafter(c, -np.inf), c) > 0\n",
        "    assert pdf(np.nextafter(c, np.inf), c) == 0\n",
        "    assert np.all(pdf(np.linspace(np.nextafter(-c, np.inf), np.nextafter(c, -np.inf), 1001), c) > 0)\n",
        "    assert np.all(pdf(np.linspace(-1e80, np.nextafter(-c, -np.inf), 1001), c) == 0)\n",
        "    assert np.all(pdf(np.linspace(np.nextafter(c, np.inf), 1e80, 1001), c) == 0)\n",
        "\n",
        "def test_normalized():\n",
        "  # Assert that the PDF integrates to 1.\n",
        "  for c in cs:\n",
        "    x = np.linspace(-2*c, 2*c, 10001)\n",
        "    p = pdf(x, c)\n",
        "    np.testing.assert_allclose(np.sum(p) * (x[1] - x[0]), 1)\n",
        "\n",
        "def test_cdf():\n",
        "  # Assert that differentiating the CDF yields the PDF.\n",
        "  for c in cs:\n",
        "    x = np.linspace(-2*c, 2*c, 100001)\n",
        "    np.testing.assert_allclose(pdf((x[:-1] + x[1:])/2, c), np.diff(cdf(x, c)) / (x[1] - x[0]), atol=1e-5)\n",
        "\n",
        "def test_mean():\n",
        "  # Assert that the sample mean is zero.\n",
        "  for c in cs:\n",
        "    x = np.linspace(-2*c, 2*c, 10001)\n",
        "    p = pdf(x, c)\n",
        "    w = p / np.sum(p)\n",
        "    np.testing.assert_allclose(np.sum(w * x), 0., atol=1e-7)\n",
        "\n",
        "def test_variance():\n",
        "  # Assert that the sample variance is c**2 / 5.\n",
        "  for c in cs:\n",
        "    x = np.linspace(-2*c, 2*c, 1000001)\n",
        "    p = pdf(x, c)\n",
        "    w = p / np.sum(p)\n",
        "    np.testing.assert_allclose(np.sum(w * x**2), c**2 / 5)\n",
        "\n",
        "def test_median():\n",
        "  # Assert that the median is 0.\n",
        "  for c in cs:\n",
        "    x = np.linspace(-2*c, 2*c, 1000001)\n",
        "    np.testing.assert_allclose(cdf(0, c), 0.5)\n",
        "\n",
        "def test_mode():\n",
        "  # Assert that the mode is 0.\n",
        "  for c in cs:\n",
        "    x = np.linspace(-2*c, 2*c, 1000001)\n",
        "    p = pdf(x, c)\n",
        "    is_max = p == np.max(p)\n",
        "    np.testing.assert_allclose(np.sum(x * is_max) / np.sum(is_max), 0)\n",
        "\n",
        "# Super simple test harness.\n",
        "if __name__ == '__main__':\n",
        "  for t in [f for n, f in globals().items() if n.startswith('test_')]:\n",
        "    n = t.__name__\n",
        "    try:\n",
        "      t()\n",
        "      print(f\"✓ {n} passed\")\n",
        "    except AssertionError as e:\n",
        "      print(f\"✗ {n} failed: {str(e)}\")\n",
        "    except Exception as e:\n",
        "      print(f\"✗ {n} error: {str(e)}\")"
      ],
      "metadata": {
        "colab": {
          "base_uri": "https://localhost:8080/"
        },
        "id": "45WYlgJ8-Vzi",
        "outputId": "1f93c314-af20-4802-8564-ad794d793f0d"
      },
      "execution_count": null,
      "outputs": [
        {
          "output_type": "stream",
          "name": "stdout",
          "text": [
            "✓ test_support passed\n",
            "✓ test_normalized passed\n",
            "✓ test_cdf passed\n",
            "✓ test_mean passed\n",
            "✓ test_variance passed\n",
            "✓ test_median passed\n",
            "✓ test_mode passed\n"
          ]
        }
      ]
    }
  ]
}